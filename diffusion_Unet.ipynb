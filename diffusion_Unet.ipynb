{
 "cells": [
  {
   "cell_type": "code",
   "execution_count": 2,
   "metadata": {},
   "outputs": [],
   "source": [
    "import torch\n",
    "import torch.nn as nn"
   ]
  },
  {
   "cell_type": "code",
   "execution_count": null,
   "metadata": {},
   "outputs": [],
   "source": [
    "class TimeEmbedding(nn.Module):\n",
    "    def __init__(self, embedding_dim):\n",
    "        super().__init__()\n",
    "        self.embedding_dim = embedding_dim \n",
    "    \n",
    "    # (B, ) -----> (B, embedding_dim)\n",
    "    def forward(self, x):\n",
    "        x = x.reshape((len(x),1))\n",
    "        print(x.shape)\n",
    "        embeddings = torch.zeros(size=(x.shape[0], self.embedding_dim),device=x.device)\n",
    "        denominators = 10000 ** (2 * torch.arange(self.embedding_dim//2, device=x.device) / self.embedding_dim)\n",
    "        embeddings[:,::2] = torch.sin(x/denominators)\n",
    "        embeddings[:,1::2] = torch.cos(x/denominators)\n",
    "        return embeddings"
   ]
  },
  {
   "cell_type": "code",
   "execution_count": null,
   "metadata": {},
   "outputs": [],
   "source": [
    "class diffusion_unet(nn.Module):\n",
    "    def __init__(self, init_dim, output_dim, dim_mults, resnet_block_groups, input_channel=3, time_mult = 4):\n",
    "        super().__init__()\n",
    "\n",
    "        # initial conv layer: (B, 3, H, W) ----------> (B, init_dim, H, W)\n",
    "        self.init_conv = nn.Conv2d(input_channel, init_dim, kernel_size=1)\n",
    "        \n",
    "        # set up downsampling/upsampling channel dimension changes: [(init_dim, init_dim*dim_mults[0]), (init_dim, init_dim*dim_mults[1]), ...]\n",
    "        dims = [init_dim] + [n * init_dim for n in dim_mults]\n",
    "        dims = list(zip(dims[:-1], dims[1:]))\n",
    "\n",
    "        # time embedding: (batch, ) --------> (batch, time_dim)\n",
    "        time_dim = time_mult * init_dim\n",
    "        self.time_embed = nn.Sequential(\n",
    "            TimeEmbedding(init_dim),\n",
    "            nn.Linear(init_dim, time_dim),\n",
    "            nn.GELU(),\n",
    "            nn.Linear(time_dim,time_dim)\n",
    "        )"
   ]
  },
  {
   "cell_type": "code",
   "execution_count": null,
   "metadata": {},
   "outputs": [],
   "source": []
  },
  {
   "cell_type": "code",
   "execution_count": null,
   "metadata": {},
   "outputs": [],
   "source": []
  },
  {
   "cell_type": "code",
   "execution_count": null,
   "metadata": {},
   "outputs": [],
   "source": []
  },
  {
   "cell_type": "code",
   "execution_count": null,
   "metadata": {},
   "outputs": [],
   "source": []
  }
 ],
 "metadata": {
  "kernelspec": {
   "display_name": "project_space",
   "language": "python",
   "name": "python3"
  },
  "language_info": {
   "codemirror_mode": {
    "name": "ipython",
    "version": 3
   },
   "file_extension": ".py",
   "mimetype": "text/x-python",
   "name": "python",
   "nbconvert_exporter": "python",
   "pygments_lexer": "ipython3",
   "version": "3.11.7"
  }
 },
 "nbformat": 4,
 "nbformat_minor": 2
}
